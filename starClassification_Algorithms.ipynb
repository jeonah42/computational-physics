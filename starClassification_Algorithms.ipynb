{
  "nbformat": 4,
  "nbformat_minor": 0,
  "metadata": {
    "colab": {
      "provenance": []
    },
    "kernelspec": {
      "name": "python3",
      "display_name": "Python 3"
    },
    "language_info": {
      "name": "python"
    }
  },
  "cells": [
    {
      "cell_type": "code",
      "execution_count": null,
      "metadata": {
        "colab": {
          "base_uri": "https://localhost:8080/"
        },
        "id": "b_G56RbINjd7",
        "outputId": "6073798d-a8c6-4919-ba70-efa0386244d5"
      },
      "outputs": [
        {
          "output_type": "stream",
          "name": "stdout",
          "text": [
            "Mounted at /content/gdrive\n"
          ]
        }
      ],
      "source": [
        "from google.colab import drive\n",
        "drive.mount('/content/gdrive')\n",
        "file_path = '/content/gdrive/MyDrive/Colab Notebooks/star_class.txt'\n",
        "\n",
        "import numpy as np\n",
        "import pandas as pd\n",
        "data = pd.read_csv('/content/gdrive/MyDrive/Colab Notebooks/star_class.txt', engine='python')\n",
        "df = data[['Temperature (K)', 'Luminosity (L/Lo)', 'Star type', 'Radius (R/Ro)']]"
      ]
    },
    {
      "cell_type": "code",
      "source": [
        "from sklearn.preprocessing import StandardScaler\n",
        "from sklearn.model_selection import train_test_split\n",
        "from sklearn.metrics import accuracy_score\n",
        "\n",
        "# Log-transformation\n",
        "df.loc[:, 'log_temperature'] = np.log(df['Temperature (K)'])\n",
        "df.loc[:, 'log_luminosity'] = np.log(df['Luminosity (L/Lo)'])\n",
        "df.loc[:, 'log_radius'] = np.log(df['Radius (R/Ro)'])\n",
        "\n",
        "# Standardization\n",
        "scaler = StandardScaler()\n",
        "df.loc[:, ['log_temperature', 'log_luminosity', 'log_radius']] = scaler.fit_transform(df[['log_temperature', 'log_luminosity', 'log_radius']])\n",
        "\n",
        "# Not standardized data\n",
        "X1 = df[['Temperature (K)', 'Luminosity (L/Lo)', 'Radius (R/Ro)']]\n",
        "y1 = df['Star type']\n",
        "\n",
        "# Standardized data\n",
        "X2 = df[['log_temperature', 'log_luminosity', 'log_radius']]\n",
        "y2 = df['Star type']\n",
        "\n",
        "#-----Train/Test Split-----\n",
        "X1_train, X1_test, y1_train, y1_test = train_test_split(X1, y1, test_size=0.2, random_state=42)\n",
        "X2_train, X2_test, y2_train, y2_test = train_test_split(X2, y2, test_size=0.2, random_state=42)"
      ],
      "metadata": {
        "id": "vTwan4xWNsEZ",
        "colab": {
          "base_uri": "https://localhost:8080/"
        },
        "outputId": "70633d86-d4ed-432d-f6de-0f0cccdaff53"
      },
      "execution_count": null,
      "outputs": [
        {
          "output_type": "stream",
          "name": "stderr",
          "text": [
            "<ipython-input-2-47a38515e1b5>:6: SettingWithCopyWarning: \n",
            "A value is trying to be set on a copy of a slice from a DataFrame.\n",
            "Try using .loc[row_indexer,col_indexer] = value instead\n",
            "\n",
            "See the caveats in the documentation: https://pandas.pydata.org/pandas-docs/stable/user_guide/indexing.html#returning-a-view-versus-a-copy\n",
            "  df.loc[:, 'log_temperature'] = np.log(df['Temperature (K)'])\n",
            "<ipython-input-2-47a38515e1b5>:7: SettingWithCopyWarning: \n",
            "A value is trying to be set on a copy of a slice from a DataFrame.\n",
            "Try using .loc[row_indexer,col_indexer] = value instead\n",
            "\n",
            "See the caveats in the documentation: https://pandas.pydata.org/pandas-docs/stable/user_guide/indexing.html#returning-a-view-versus-a-copy\n",
            "  df.loc[:, 'log_luminosity'] = np.log(df['Luminosity (L/Lo)'])\n",
            "<ipython-input-2-47a38515e1b5>:8: SettingWithCopyWarning: \n",
            "A value is trying to be set on a copy of a slice from a DataFrame.\n",
            "Try using .loc[row_indexer,col_indexer] = value instead\n",
            "\n",
            "See the caveats in the documentation: https://pandas.pydata.org/pandas-docs/stable/user_guide/indexing.html#returning-a-view-versus-a-copy\n",
            "  df.loc[:, 'log_radius'] = np.log(df['Radius (R/Ro)'])\n"
          ]
        }
      ]
    },
    {
      "cell_type": "code",
      "source": [
        "#-----Not standardized data\n",
        "\n",
        "#k-nn\n",
        "from sklearn.neighbors import KNeighborsClassifier\n",
        "knn = KNeighborsClassifier(n_neighbors=3)\n",
        "knn.fit(X1_train, y1_train)\n",
        "\n",
        "y1_train_pred_knn = knn.predict(X1_train)\n",
        "y1_test_pred_knn = knn.predict(X1_test)\n",
        "train_accuracy_knn_1 = accuracy_score(y1_train, y1_train_pred_knn)\n",
        "test_accuracy_knn_1 = accuracy_score(y1_test, y1_test_pred_knn)\n",
        "\n",
        "#Logistic Regression\n",
        "from sklearn.linear_model import LogisticRegression\n",
        "from sklearn.metrics import classification_report\n",
        "\n",
        "lr = LogisticRegression(max_iter=1000)\n",
        "lr.fit(X1_train, y1_train)\n",
        "\n",
        "y1_train_pred_lr = lr.predict(X1_train)\n",
        "y1_test_pred_lr = lr.predict(X1_test)\n",
        "train_accuracy_lr_1 = accuracy_score(y1_train, y1_train_pred_lr)\n",
        "test_accuracy_lr_1 = accuracy_score(y1_test, y1_test_pred_lr)\n",
        "\n",
        "#-----Accuracy\n",
        "print(f'k-NN Training Accuracy: {train_accuracy_knn_1:.4f}')\n",
        "print(f'k-NN Test Accuracy: {test_accuracy_knn_1:.4f}')\n",
        "print(f'lr Training Accuracy: {train_accuracy_lr_1:.4f}')\n",
        "print(f'lr Test Accuracy: {test_accuracy_lr_1:.4f}')"
      ],
      "metadata": {
        "colab": {
          "base_uri": "https://localhost:8080/"
        },
        "id": "1Hf-nJ-xOEkR",
        "outputId": "4547f30c-786b-4ebd-f200-c359d2088a83"
      },
      "execution_count": null,
      "outputs": [
        {
          "output_type": "stream",
          "name": "stdout",
          "text": [
            "k-NN Training Accuracy: 0.8385\n",
            "k-NN Test Accuracy: 0.7708\n",
            "lr Training Accuracy: 0.9583\n",
            "lr Test Accuracy: 0.8958\n"
          ]
        }
      ]
    },
    {
      "cell_type": "code",
      "source": [
        "#-----Standardized data\n",
        "\n",
        "#k-nn\n",
        "from sklearn.neighbors import KNeighborsClassifier\n",
        "knn = KNeighborsClassifier(n_neighbors=3)\n",
        "knn.fit(X2_train, y2_train)\n",
        "\n",
        "y2_train_pred_knn = knn.predict(X2_train)\n",
        "y2_test_pred_knn = knn.predict(X2_test)\n",
        "train_accuracy_knn_2 = accuracy_score(y2_train, y2_train_pred_knn)\n",
        "test_accuracy_knn_2 = accuracy_score(y2_test, y2_test_pred_knn)\n",
        "\n",
        "#Logistic Regression\n",
        "from sklearn.linear_model import LogisticRegression\n",
        "from sklearn.metrics import classification_report\n",
        "\n",
        "lr = LogisticRegression(max_iter=1000)\n",
        "lr.fit(X2_train, y2_train)\n",
        "\n",
        "y2_train_pred_lr = lr.predict(X2_train)\n",
        "y2_test_pred_lr = lr.predict(X2_test)\n",
        "train_accuracy_lr_2 = accuracy_score(y2_train, y2_train_pred_lr)\n",
        "test_accuracy_lr_2 = accuracy_score(y2_test, y2_test_pred_lr)\n",
        "\n",
        "\n",
        "#-----Accuracy\n",
        "print(f'\\nk-NN Training Accuracy: {train_accuracy_knn_2:.4f}')\n",
        "print(f'k-NN Test Accuracy: {test_accuracy_knn_2:.4f}\\n')\n",
        "print(f'lr Training Accuracy: {train_accuracy_lr_2:.4f}')\n",
        "print(f'lr Test Accuracy: {test_accuracy_lr_2:.4f}\\n')"
      ],
      "metadata": {
        "colab": {
          "base_uri": "https://localhost:8080/"
        },
        "id": "YX5Vod2oNveg",
        "outputId": "7cec1213-480d-4af7-cc30-d91bb9bd81cd"
      },
      "execution_count": null,
      "outputs": [
        {
          "output_type": "stream",
          "name": "stdout",
          "text": [
            "\n",
            "k-NN Training Accuracy: 0.9688\n",
            "k-NN Test Accuracy: 0.9375\n",
            "\n",
            "lr Training Accuracy: 0.9583\n",
            "lr Test Accuracy: 0.9375\n",
            "\n"
          ]
        }
      ]
    },
    {
      "cell_type": "code",
      "source": [
        "# Decision Tree with not standardized data\n",
        "from sklearn.tree import DecisionTreeClassifier\n",
        "dtree = DecisionTreeClassifier(random_state=42)\n",
        "dtree.fit(X1_train, y1_train)\n",
        "\n",
        "y1_train_pred_DTC = dtree.predict(X1_train)\n",
        "y1_test_pred_DTC = dtree.predict(X1_test)\n",
        "train_accuracy_DTC_1 = accuracy_score(y1_train, y1_train_pred_DTC)\n",
        "test_accuracy_DTC_1 = accuracy_score(y1_test, y1_test_pred_DTC)\n",
        "\n",
        "print(f'\\nDTC Training Accuracy: {train_accuracy_DTC_1:.4f}')\n",
        "print(f'DTC Test Accuracy: {test_accuracy_DTC_1:.4f}\\n')"
      ],
      "metadata": {
        "colab": {
          "base_uri": "https://localhost:8080/"
        },
        "id": "l1IOBmFHVDTv",
        "outputId": "b685f122-6409-4cf2-a82d-ddb584e27444"
      },
      "execution_count": null,
      "outputs": [
        {
          "output_type": "stream",
          "name": "stdout",
          "text": [
            "\n",
            "DTC Training Accuracy: 1.0000\n",
            "DTC Test Accuracy: 0.9583\n",
            "\n"
          ]
        }
      ]
    },
    {
      "cell_type": "code",
      "source": [],
      "metadata": {
        "id": "Ea5D6p7CVkJ1"
      },
      "execution_count": null,
      "outputs": []
    }
  ]
}