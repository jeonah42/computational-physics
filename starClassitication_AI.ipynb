{
  "cells": [
    {
      "cell_type": "code",
      "execution_count": null,
      "metadata": {
        "colab": {
          "base_uri": "https://localhost:8080/"
        },
        "collapsed": true,
        "id": "vXdZSdnPuetu",
        "outputId": "baf6c9e0-6f52-4263-8997-50538ea91857"
      },
      "outputs": [
        {
          "name": "stdout",
          "output_type": "stream",
          "text": [
            "Mounted at /content/gdrive\n"
          ]
        }
      ],
      "source": [
        "from google.colab import drive\n",
        "drive.mount('/content/gdrive')\n"
      ]
    },
    {
      "cell_type": "code",
      "execution_count": null,
      "metadata": {
        "id": "XuObSKOmunk_"
      },
      "outputs": [],
      "source": [
        "import numpy as np\n",
        "import pandas as pd\n",
        "\n",
        "# Read a txt file, sort by whitespace, and create a dataframe\n",
        "data = pd.read_csv('/content/gdrive/MyDrive/Colab Notebooks/star_class.txt', engine='python')\n",
        "\n",
        "#  extract the required columns\n",
        "df = data[['Temperature (K)', 'Luminosity (L/Lo)', 'Radius (R/Ro)', 'Star category']]"
      ]
    },
    {
      "cell_type": "code",
      "execution_count": null,
      "metadata": {
        "colab": {
          "background_save": true,
          "base_uri": "https://localhost:8080/"
        },
        "id": "CX_EbuXa9vmW",
        "outputId": "a592250c-fffe-440a-ade0-cefcb7456dbe"
      },
      "outputs": [
        {
          "name": "stderr",
          "output_type": "stream",
          "text": [
            "<ipython-input-3-80838bf6fe24>:11: SettingWithCopyWarning: \n",
            "A value is trying to be set on a copy of a slice from a DataFrame.\n",
            "Try using .loc[row_indexer,col_indexer] = value instead\n",
            "\n",
            "See the caveats in the documentation: https://pandas.pydata.org/pandas-docs/stable/user_guide/indexing.html#returning-a-view-versus-a-copy\n",
            "  df.loc[:, 'log_temperature'] = np.log(df['Temperature (K)'])\n",
            "<ipython-input-3-80838bf6fe24>:12: SettingWithCopyWarning: \n",
            "A value is trying to be set on a copy of a slice from a DataFrame.\n",
            "Try using .loc[row_indexer,col_indexer] = value instead\n",
            "\n",
            "See the caveats in the documentation: https://pandas.pydata.org/pandas-docs/stable/user_guide/indexing.html#returning-a-view-versus-a-copy\n",
            "  df.loc[:, 'log_luminosity'] = np.log(df['Luminosity (L/Lo)'])\n",
            "<ipython-input-3-80838bf6fe24>:13: SettingWithCopyWarning: \n",
            "A value is trying to be set on a copy of a slice from a DataFrame.\n",
            "Try using .loc[row_indexer,col_indexer] = value instead\n",
            "\n",
            "See the caveats in the documentation: https://pandas.pydata.org/pandas-docs/stable/user_guide/indexing.html#returning-a-view-versus-a-copy\n",
            "  df.loc[:, 'log_radius'] = np.log(df['Radius (R/Ro)'])\n"
          ]
        }
      ],
      "source": [
        "# Import StandardScaler for data preprocessing\n",
        "from sklearn.preprocessing import StandardScaler\n",
        "# import Logistic Regression\n",
        "from sklearn.linear_model import LogisticRegression\n",
        "# Import train_test_split for splitting the dataset into training and testing sets\n",
        "from sklearn.model_selection import train_test_split\n",
        "# Import accuracy_score for model performance evaluation\n",
        "from sklearn.metrics import accuracy_score\n",
        "\n",
        "# Log-transformation\n",
        "df.loc[:, 'log_temperature'] = np.log(df['Temperature (K)'])\n",
        "df.loc[:, 'log_luminosity'] = np.log(df['Luminosity (L/Lo)'])\n",
        "df.loc[:, 'log_radius'] = np.log(df['Radius (R/Ro)'])\n",
        "\n",
        "# Standa1rdization\n",
        "scaler = StandardScaler()\n",
        "df.loc[:, ['log_temperature', 'log_luminosity', 'log_radius']] = scaler.fit_transform(df[['log_temperature', 'log_luminosity', 'log_radius']])\n",
        "\n",
        "X = df[['log_temperature', 'log_luminosity', 'log_radius']]\n",
        "y = df['Star category']\n",
        "\n",
        "#-----Train/Test Split-----\n",
        "X_train, X_test, y_train, y_test = train_test_split(X, y, test_size=0.2, random_state=42)\n",
        "\n",
        "lr = LogisticRegression(max_iter=1000)\n",
        "lr.fit(X_train, y_train)\n",
        "\n",
        "# predict function definition\n",
        "def predict_category(temperature, luminosity, radius):\n",
        "    log_temperature = np.log(temperature)\n",
        "    log_luminosity = np.log(luminosity)\n",
        "    log_radius = np.log(radius)\n",
        "    standardized_data = scaler.transform([[log_temperature, log_luminosity, log_radius]])\n",
        "    return lr.predict(standardized_data)[0]\n",
        "\n",
        "# user input\n",
        "user_temperature = float(input(\"temperature: \"))\n",
        "user_luminosity = float(input(\"luminosity: \"))\n",
        "user_radius = float(input(\"radius: \"))\n",
        "\n",
        "# category prediction\n",
        "predicted_category = predict_category(user_temperature, user_luminosity, user_radius)\n",
        "print(f\"Classification Result: {predicted_category}\\n\")"
      ]
    }
  ],
  "metadata": {
    "colab": {
      "provenance": []
    },
    "kernelspec": {
      "display_name": "Python 3",
      "name": "python3"
    },
    "language_info": {
      "name": "python"
    }
  },
  "nbformat": 4,
  "nbformat_minor": 0
}